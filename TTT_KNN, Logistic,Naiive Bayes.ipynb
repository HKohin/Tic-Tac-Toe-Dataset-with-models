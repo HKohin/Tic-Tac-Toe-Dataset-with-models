{
 "cells": [
  {
   "cell_type": "code",
   "execution_count": 25,
   "metadata": {},
   "outputs": [
    {
     "name": "stdout",
     "output_type": "stream",
     "text": [
      "0.7725118483412322\n",
      "0.8255813953488372\n",
      "0.8505747126436781\n",
      "0.8815165876777251\n",
      "0.813953488372093\n",
      "0.8735632183908046\n",
      "0.9146919431279621\n",
      "0.8372093023255814\n",
      "0.7931034482758621\n",
      "0.8909952606635071\n",
      "0.8023255813953488\n",
      "0.8160919540229885\n",
      "0.8483412322274881\n",
      "0.7558139534883721\n",
      "0.7816091954022989\n",
      "0.8388625592417062\n",
      "0.7441860465116279\n",
      "0.7931034482758621\n",
      "0.8293838862559242\n",
      "0.7441860465116279\n",
      "0.7816091954022989\n",
      "0.8151658767772512\n",
      "0.6976744186046512\n",
      "0.7816091954022989\n"
     ]
    }
   ],
   "source": [
    "import numpy as np\n",
    "import pandas as pd \n",
    "from sklearn import preprocessing \n",
    "from sklearn.model_selection import train_test_split\n",
    "trainvar_ttt = pd.read_csv('hw1ttt_train.data', header= None)\n",
    "testvar_ttt = pd.read_csv('hw1ttt_test.data', header= None)\n",
    "validvar_ttt = pd.read_csv('hw1ttt_valid.data', header= None)\n",
    "\n",
    "trainvar_ttt_label = trainvar_ttt[9]\n",
    "trainvar_ttt_feature = trainvar_ttt.drop(columns=9)\n",
    "dum_trainvar_ttt = pd.get_dummies(trainvar_ttt_feature)\n",
    "\n",
    "\n",
    "validvar_ttt_label = validvar_ttt[9]\n",
    "validvar_ttt_feature = validvar_ttt.drop(columns=9)\n",
    "dum_validvar_ttt = pd.get_dummies(validvar_ttt_feature)\n",
    "\n",
    "testvar_ttt_label = testvar_ttt[9]\n",
    "testvar_ttt_feature = testvar_ttt.drop(columns=9)\n",
    "dum_testvar_ttt = pd.get_dummies(testvar_ttt_feature)\n",
    "\n",
    "label_encoder = preprocessing.LabelEncoder()\n",
    "encode_var_train = label_encoder.fit_transform(trainvar_ttt_label)\n",
    "\n",
    "encode_var_test = label_encoder.fit_transform(testvar_ttt_label)\n",
    "\n",
    "encode_var_valid = label_encoder.fit_transform(validvar_ttt_label)\n",
    "\n",
    "x1_test, x_11test, y_1test, y_11test = train_test_split(dum_trainvar_ttt, encode_var_train\n",
    ", test_size = 0.4, random_state = 4)\n",
    "\n",
    "\n",
    "x2_test, x_22test, y_2test, y_22test = train_test_split(dum_testvar_ttt, encode_var_test\n",
    ", test_size = 0.4, random_state = 4)\n",
    "\n",
    "x3_test, x_33test, y_3test, y_33test = train_test_split(dum_validvar_ttt, encode_var_valid\n",
    ", test_size = 0.4, random_state = 4)\n",
    "\n",
    "from sklearn.neighbors import KNeighborsClassifier\n",
    "from sklearn import metrics \n",
    "rand_var = range (1,16,2)\n",
    "for i in rand_var:\n",
    "    knn = KNeighborsClassifier(n_neighbors=i)\n",
    "    knn.fit(x1_test, y_1test)\n",
    "    y_pred = knn.predict(x_11test)\n",
    "    print(metrics.accuracy_score(y_11test, y_pred))\n",
    "    \n",
    "    knn.fit(x2_test, y_2test)\n",
    "    y_pred_a = knn.predict(x_22test)\n",
    "    print(metrics.accuracy_score(y_22test, y_pred_a))\n",
    "    \n",
    "    knn.fit(x3_test, y_3test)\n",
    "    y_pred_b = knn.predict(x_33test)\n",
    "    print(metrics.accuracy_score(y_33test, y_pred_b))\n",
    "    \n",
    "    "
   ]
  },
  {
   "cell_type": "code",
   "execution_count": 12,
   "metadata": {},
   "outputs": [
    {
     "name": "stdout",
     "output_type": "stream",
     "text": [
      "0.985781990521327\n"
     ]
    }
   ],
   "source": [
    "import matplotlib.pyplot as plt\n",
    "from sklearn.linear_model import LogisticRegression\n",
    "from sklearn.svm import SVC\n",
    "from sklearn.gaussian_process import GaussianProcessClassifier\n",
    "from sklearn.gaussian_process.kernels import RBF\n",
    "from sklearn import datasets\n",
    "\n",
    "logreg = LogisticRegression(C=3, solver='saga')\n",
    "logreg.fit(x1_test,  y_1test)\n",
    "y_pred = logreg.predict(x_11test)\n",
    "print(metrics.accuracy_score(y_11test, y_pred))  #for all three "
   ]
  },
  {
   "cell_type": "code",
   "execution_count": 13,
   "metadata": {},
   "outputs": [
    {
     "name": "stdout",
     "output_type": "stream",
     "text": [
      "0.8953488372093024\n"
     ]
    }
   ],
   "source": [
    "logreg = LogisticRegression(C=3, solver='saga')\n",
    "logreg.fit(x2_test,  y_2test)\n",
    "y_pred = logreg.predict(x_22test)\n",
    "print(metrics.accuracy_score(y_22test, y_pred))"
   ]
  },
  {
   "cell_type": "code",
   "execution_count": 14,
   "metadata": {},
   "outputs": [
    {
     "name": "stdout",
     "output_type": "stream",
     "text": [
      "0.9195402298850575\n"
     ]
    }
   ],
   "source": [
    "logreg = LogisticRegression(C=3, solver='saga')\n",
    "logreg.fit(x3_test,  y_3test)\n",
    "y_pred = logreg.predict(x_33test)\n",
    "print(metrics.accuracy_score(y_33test, y_pred))"
   ]
  },
  {
   "cell_type": "code",
   "execution_count": 15,
   "metadata": {},
   "outputs": [
    {
     "data": {
      "text/plain": [
       "0.6919431279620853"
      ]
     },
     "execution_count": 15,
     "metadata": {},
     "output_type": "execute_result"
    }
   ],
   "source": [
    "from sklearn.naive_bayes import GaussianNB\n",
    "from sklearn.metrics import accuracy_score\n",
    "\n",
    "# Instantiate: create object\n",
    "gnb = GaussianNB()\n",
    "\n",
    "#Fitting the data\n",
    "gnb.fit(x1_test, y_1test)\n",
    "\n",
    "#Prediction\n",
    "y_pred = gnb.predict(x_11test)\n",
    "\n",
    "#Accuracy for the data \n",
    "acc = accuracy_score(y_11test, y_pred)\n",
    "acc"
   ]
  },
  {
   "cell_type": "code",
   "execution_count": 16,
   "metadata": {},
   "outputs": [
    {
     "data": {
      "text/plain": [
       "0.6627906976744186"
      ]
     },
     "execution_count": 16,
     "metadata": {},
     "output_type": "execute_result"
    }
   ],
   "source": [
    "\n",
    "\n",
    "#Fitting the data\n",
    "gnb.fit(x2_test, y_2test)\n",
    "\n",
    "#Prediction\n",
    "y_pred = gnb.predict(x_22test)\n",
    "\n",
    "#Accuracy for the data \n",
    "acc = accuracy_score(y_22test, y_pred)\n",
    "acc"
   ]
  },
  {
   "cell_type": "code",
   "execution_count": 17,
   "metadata": {},
   "outputs": [
    {
     "data": {
      "text/plain": [
       "0.6781609195402298"
      ]
     },
     "execution_count": 17,
     "metadata": {},
     "output_type": "execute_result"
    }
   ],
   "source": [
    "\n",
    "#Fitting the data\n",
    "gnb.fit(x3_test, y_3test)\n",
    "\n",
    "#Prediction\n",
    "y_pred = gnb.predict(x_33test)\n",
    "\n",
    "#Accuracy for the data \n",
    "acc = accuracy_score(y_33test, y_pred)\n",
    "acc"
   ]
  },
  {
   "cell_type": "code",
   "execution_count": 28,
   "metadata": {},
   "outputs": [],
   "source": [
    "import numpy as np\n",
    "import pandas as pd \n",
    "from sklearn import preprocessing \n",
    "from sklearn.model_selection import train_test_split\n",
    "trainvar_nursery = pd.read_csv('hw1nursery_test.data', header= None)\n",
    "testvar_nursery = pd.read_csv('hw1nursery_train.data', header= None)\n",
    "validvar_nursery = pd.read_csv('hw1nursery_valid.data', header= None)\n",
    "\n",
    "trainvar_nursery_label = trainvar_nursery[8]\n",
    "trainvar_nursery_feature = trainvar_nursery.drop(columns=8)\n",
    "dum_trainvar_nursery = pd.get_dummies(trainvar_nursery_feature)\n",
    "\n",
    "\n",
    "validvar_nursery_label = validvar_nursery[8]\n",
    "validvar_nursery_feature = validvar_nursery.drop(columns=8)\n",
    "dum_validvar_nursery = pd.get_dummies(validvar_nursery_feature)\n",
    "\n",
    "testvar_nursery_label = testvar_nursery[8]\n",
    "testvar_nursery_feature = testvar_nursery.drop(columns=8)\n",
    "dum_testvar_nursery = pd.get_dummies(testvar_nursery_feature)\n",
    "\n",
    "label_encoder = preprocessing.LabelEncoder()\n",
    "encode_var_train_nursery = label_encoder.fit_transform(trainvar_nursery_label)\n",
    "\n",
    "encode_var_test_nursery = label_encoder.fit_transform(testvar_nursery_label)\n",
    "\n",
    "encode_var_valid_nursery = label_encoder.fit_transform(validvar_nursery_label)\n",
    "\n",
    "a1_test, a_11test, b_1test, b_11test = train_test_split(dum_trainvar_nursery, encode_var_train_nursery\n",
    ", test_size = 0.4, random_state = 4)\n",
    "\n",
    "\n",
    "a2_test, a_22test, b_2test, b_22test = train_test_split(dum_testvar_nursery, encode_var_test_nursery\n",
    ", test_size = 0.4, random_state = 4)\n",
    "\n",
    "a3_test, a_33test, b_3test, b_33test = train_test_split(dum_validvar_nursery, encode_var_valid_nursery\n",
    ", test_size = 0.4, random_state = 4)\n",
    "\n",
    "    "
   ]
  },
  {
   "cell_type": "code",
   "execution_count": 24,
   "metadata": {},
   "outputs": [
    {
     "data": {
      "text/plain": [
       "0.8264223722275795"
      ]
     },
     "execution_count": 24,
     "metadata": {},
     "output_type": "execute_result"
    }
   ],
   "source": [
    "from sklearn.naive_bayes import GaussianNB\n",
    "from sklearn.metrics import accuracy_score\n",
    "\n",
    "# Instantiate: create object\n",
    "gnb = GaussianNB()\n",
    "\n",
    "#Fitting the data\n",
    "gnb.fit(a1_test, b_1test)\n",
    "\n",
    "#Prediction\n",
    "y_pred = gnb.predict(a_11test)\n",
    "\n",
    "#Accuracy for the data\n",
    "acc = accuracy_score(b_11test, y_pred)\n",
    "acc"
   ]
  },
  {
   "cell_type": "code",
   "execution_count": 26,
   "metadata": {},
   "outputs": [
    {
     "data": {
      "text/plain": [
       "0.852780456444873"
      ]
     },
     "execution_count": 26,
     "metadata": {},
     "output_type": "execute_result"
    }
   ],
   "source": [
    "\n",
    "\n",
    "#Fitting the data\n",
    "gnb.fit(a2_test, b_2test)\n",
    "\n",
    "#Prediction\n",
    "y_pred = gnb.predict(a_22test)\n",
    "\n",
    "#Accuracy for the data\n",
    "acc = accuracy_score(b_22test, y_pred)\n",
    "acc"
   ]
  },
  {
   "cell_type": "code",
   "execution_count": 27,
   "metadata": {},
   "outputs": [
    {
     "data": {
      "text/plain": [
       "0.840887174541948"
      ]
     },
     "execution_count": 27,
     "metadata": {},
     "output_type": "execute_result"
    }
   ],
   "source": [
    "\n",
    "\n",
    "#Fitting the data\n",
    "gnb.fit(a3_test, b_3test)\n",
    "\n",
    "#Prediction\n",
    "y_pred = gnb.predict(a_33test)\n",
    "\n",
    "#Accuracy for the data \n",
    "acc = accuracy_score(b_33test, y_pred)\n",
    "acc"
   ]
  }
 ],
 "metadata": {
  "kernelspec": {
   "display_name": "Python 3",
   "language": "python",
   "name": "python3"
  },
  "language_info": {
   "codemirror_mode": {
    "name": "ipython",
    "version": 3
   },
   "file_extension": ".py",
   "mimetype": "text/x-python",
   "name": "python",
   "nbconvert_exporter": "python",
   "pygments_lexer": "ipython3",
   "version": "3.7.3"
  }
 },
 "nbformat": 4,
 "nbformat_minor": 2
}
